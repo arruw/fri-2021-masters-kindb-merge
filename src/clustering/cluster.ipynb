{
 "cells": [
  {
   "cell_type": "markdown",
   "metadata": {},
   "source": [
    "# Facial image clustering"
   ]
  },
  {
   "cell_type": "code",
   "execution_count": 65,
   "metadata": {},
   "outputs": [],
   "source": [
    "import torch\n",
    "import numpy as np\n",
    "import pandas as pd\n",
    "import matplotlib.pyplot as plt\n",
    "\n",
    "from pprint import pprint\n",
    "from glob import glob\n",
    "from tqdm import tqdm\n",
    "from PIL import Image\n",
    "from colorhash import ColorHash\n",
    "\n",
    "from facenet_pytorch import InceptionResnetV1, MTCNN\n",
    "\n",
    "from torchvision import transforms, datasets\n",
    "from torch.utils.data import DataLoader, Dataset\n",
    "\n",
    "from sklearn.decomposition import PCA\n",
    "from sklearn.manifold import TSNE\n",
    "from sklearn.cluster import DBSCAN"
   ]
  },
  {
   "source": [
    "## Compute embedding"
   ],
   "cell_type": "markdown",
   "metadata": {}
  },
  {
   "cell_type": "code",
   "execution_count": null,
   "metadata": {
    "tags": []
   },
   "outputs": [],
   "source": [
    "device = 'cuda' if torch.cuda.is_available() else 'cpu'\n",
    "print(f'Running on device: {device}')\n",
    "\n",
    "# load pretrained models\n",
    "mtcnn = MTCNN(device=device)\n",
    "resnet = InceptionResnetV1(pretrained='vggface2', device=device).eval()\n",
    "\n",
    "# calculate embeddings\n",
    "embeddings = []\n",
    "image_paths = []\n",
    "\n",
    "images = glob(\"../../datasets/fr/**/*.jpg\", recursive=True)\n",
    "images.extend(glob(\"../../datasets/in/**/*.jpg\", recursive=True))\n",
    "\n",
    "for img_path in tqdm(images):\n",
    "    with torch.no_grad():\n",
    "        try:\n",
    "            img_pil = Image.open(img_path).convert(\"RGB\")\n",
    "            img_cropped = mtcnn(img_pil)\n",
    "            img_embedding = resnet(img_cropped.unsqueeze(0))\n",
    "            embeddings.append(img_embedding.squeeze().cpu().tolist())\n",
    "            image_paths.append(img_path)\n",
    "        except:\n",
    "            print(f\"\\t[ERROR] {img_path}\")\n",
    "\n",
    "# clean memory\n",
    "del mtcnn\n",
    "del resnet\n",
    "\n",
    "# store computed embeddings\n",
    "df = pd.concat([pd.DataFrame({'path': image_paths}), pd.DataFrame(embeddings)], axis=1)\n",
    "df.to_csv('../../annotations/fr-in-embedings.csv', index=False)"
   ]
  },
  {
   "source": [
    "## Load saved embeddings"
   ],
   "cell_type": "markdown",
   "metadata": {}
  },
  {
   "cell_type": "code",
   "execution_count": 3,
   "metadata": {},
   "outputs": [],
   "source": [
    "df = pd.read_csv('../../annotations/fr-in-embedings.csv')"
   ]
  },
  {
   "source": [
    "## Calculate mean embedding vector for each person"
   ],
   "cell_type": "markdown",
   "metadata": {}
  },
  {
   "cell_type": "code",
   "execution_count": 57,
   "metadata": {},
   "outputs": [],
   "source": [
    "df[\"person\"] = df[\"path\"].map(lambda x: \"/\".join(x.split(\"/\")[-4:-1]))\n",
    "\n",
    "mean_embeddings = df.copy()\n",
    "del mean_embeddings[\"path\"]\n",
    " \n",
    "mean_embeddings = pd.merge(\n",
    "    mean_embeddings.groupby(\"person\", as_index=False).mean(),\n",
    "    mean_embeddings.groupby(\"person\", as_index=False)[\"0\"].count(),\n",
    "    on=\"person\") \\\n",
    "    .rename(columns={\"0_x\": \"0\", \"0_y\": \"count\"}) \\\n",
    "    .set_index(\"person\")\n",
    "\n",
    "del mean_embeddings[\"count\"]\n"
   ]
  },
  {
   "cell_type": "code",
   "execution_count": 142,
   "metadata": {},
   "outputs": [],
   "source": [
    "from scipy.cluster.hierarchy import dendrogram, linkage\n",
    "from scipy.spatial.distance import pdist, squareform\n",
    "\n",
    "labels = mean_embeddings.index.tolist()\n",
    "\n",
    "# euclidian & cosine distances are basically same for normalized data\n",
    "dist = pdist(mean_embeddings.to_numpy(), metric='cosine')\n",
    "Z = linkage(dist, method='single')"
   ]
  },
  {
   "cell_type": "code",
   "execution_count": 153,
   "metadata": {},
   "outputs": [
    {
     "output_type": "display_data",
     "data": {
      "text/plain": "<Figure size 432x288 with 0 Axes>"
     },
     "metadata": {}
    }
   ],
   "source": [
    "with plt.rc_context({'lines.linewidth': 0.5}):\n",
    "    plt.clf()\n",
    "    plt.figure(figsize=(10, 50))\n",
    "    plt.title(\"Single linkage HC of avg. embeddings\")\n",
    "    dendrogram(Z_single, labels=labels, orientation='right')\n",
    "    plt.axvline(0.05, ls=':', lw=0.8, c='r', alpha=0.5)\n",
    "    plt.axvline(0.10, ls=':', lw=0.8, c='r', alpha=0.5)\n",
    "    plt.axvline(0.15, ls=':', lw=0.8, c='r', alpha=0.5)\n",
    "    plt.axvline(0.20, ls=':', lw=0.8, c='r', alpha=0.5)\n",
    "    plt.grid(False)\n",
    "    plt.tight_layout()\n",
    "    plt.xticks(fontsize=6, rotation=0)\n",
    "    plt.savefig(\"../../annotations/fr-in-clustering.pdf\")\n",
    "    plt.show()"
   ]
  }
 ],
 "metadata": {
  "kernelspec": {
   "display_name": "Python 3",
   "language": "python",
   "name": "python3"
  },
  "language_info": {
   "codemirror_mode": {
    "name": "ipython",
    "version": 3
   },
   "file_extension": ".py",
   "mimetype": "text/x-python",
   "name": "python",
   "nbconvert_exporter": "python",
   "pygments_lexer": "ipython3",
   "version": "3.8.2-final"
  }
 },
 "nbformat": 4,
 "nbformat_minor": 2
}